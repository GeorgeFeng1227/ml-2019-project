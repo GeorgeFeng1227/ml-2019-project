{
 "cells": [
  {
   "cell_type": "markdown",
   "metadata": {},
   "source": [
    "# Reading Data\n",
    "Reading files that contain the biased (WikiDetox) and unbiased (50/50 aggressive/unaggressive) data"
   ]
  },
  {
   "cell_type": "code",
   "execution_count": 143,
   "metadata": {},
   "outputs": [
    {
     "name": "stdout",
     "output_type": "stream",
     "text": [
      "biased data inputed\n"
     ]
    }
   ],
   "source": [
    "#Version 0.0 ---Original unbalanced data input\n",
    "\n",
    "import nltk\n",
    "from nltk.stem import WordNetLemmatizer\n",
    "import numpy as np\n",
    "import pandas as pd\n",
    "import matplotlib.pyplot as plt\n",
    "from scipy import ndimage as nd\n",
    "import re\n",
    "\n",
    "Number_of_entry = 10000 #maximum acceptable 29560\n",
    "#input data and clean up\n",
    "data = pd.read_csv('aggression_annotated_comments.tsv', sep = '\\t', nrows = Number_of_entry)\n",
    "\n",
    "comment_data_b = data.comment\n",
    "comment_data_b = np.asarray(comment_data_b)\n",
    "print(\"biased data inputed\")"
   ]
  },
  {
   "cell_type": "code",
   "execution_count": 144,
   "metadata": {},
   "outputs": [
    {
     "name": "stdout",
     "output_type": "stream",
     "text": [
      "unbias data inputed\n",
      "comment_data & target_unbias\n"
     ]
    }
   ],
   "source": [
    "#unbiased data input\n",
    "import nltk\n",
    "from nltk.stem import WordNetLemmatizer\n",
    "import numpy as np\n",
    "import pandas as pd\n",
    "import matplotlib.pyplot as plt\n",
    "from scipy import ndimage as nd\n",
    "import re\n",
    "\n",
    "Number_of_entry = 29560 #maximum acceptable 29560\n",
    "#input data and clean up\n",
    "agg_data = pd.read_csv('Aggressive_comments.tsv', sep = '\\t', nrows = Number_of_entry/2)\n",
    "neu_data = pd.read_csv('Neutral_comments.tsv', sep = '\\t', nrows = Number_of_entry/2)\n",
    "\n",
    "agg_comment = agg_data.comment\n",
    "neu_comment = neu_data.comment\n",
    "agg_target = agg_data.aggression\n",
    "neu_target = neu_data.aggression\n",
    "\n",
    "comment_data = np.asarray(agg_comment.append(neu_comment))\n",
    "target_unbias = np.asarray(agg_target.append(neu_target))\n",
    "print(\"unbias data inputed\")\n",
    "print(\"comment_data & target_unbias\")\n",
    "\n"
   ]
  },
  {
   "cell_type": "code",
   "execution_count": 145,
   "metadata": {},
   "outputs": [
    {
     "name": "stdout",
     "output_type": "stream",
     "text": [
      "trial data inputed\n",
      "trial_comment & trial_score\n"
     ]
    }
   ],
   "source": [
    "#Test unbiased scored data \n",
    "#new\n",
    "agg_data_s = pd.read_csv('Aggressive_scored.tsv', sep = '\\t', nrows = Number_of_entry/2)\n",
    "neu_data_s = pd.read_csv('Friendlier_scored.tsv', sep = '\\t', nrows = Number_of_entry/2)\n",
    "\n",
    "agg_comment_s = agg_data_s.comment\n",
    "neu_comment_s = neu_data_s.comment\n",
    "agg_target_s = agg_data_s.aggression_score\n",
    "neu_target_s = neu_data_s.aggression_score\n",
    "\n",
    "trial_comment = np.asarray(agg_comment_s.append(neu_comment_s))\n",
    "trial_score = np.asarray(agg_target_s.append(neu_target_s))\n",
    "print(\"trial data inputed\")\n",
    "print(\"trial_comment & trial_score\")"
   ]
  },
  {
   "cell_type": "markdown",
   "metadata": {},
   "source": [
    "# Preprocessing\n",
    "Removes punctuation, newlinetoken, stop words for unbiased and biased data, lemmatizes"
   ]
  },
  {
   "cell_type": "code",
   "execution_count": 146,
   "metadata": {},
   "outputs": [
    {
     "name": "stdout",
     "output_type": "stream",
     "text": [
      "['click', 'annoying', 'users', 'link', 'guess', 'massachusetts', 'republic', 'defending', 'facts', 'against', 'lies', 'determined', 'zealots', 'seems', 'particular', 'sticking', 'place', 'wikipedia', '0258', 'feb', '21', '2003', 'utc']\n"
     ]
    }
   ],
   "source": [
    "#first step of preprocessing\n",
    "PUNCTUATION_NO_SPACE = re.compile(\"[.;:!*=<>`_'?¿,\\\"()\\[\\]]\")\n",
    "PUNCTUATION_SPACE = re.compile(\"-\")\n",
    "NEWLINE = re.compile(\"newlinetoken\")\n",
    "#This is more or less the nltk stop list with negations removed\n",
    "skip = ['i', 'me', 'my', 'myself', 'we', 'our', 'ours', 'ourselves', 'you', \"you're\", 'im',\"youre\",\n",
    "        \"you've\", \"you'll\", \"you'd\", 'your', 'yours', 'yourself', 'yourselves', 'he', 'him', \n",
    "        'his', 'himself', 'she', \"she's\", 'her', 'hers', 'herself', 'it', \"it's\", 'its', 'itself', \n",
    "        'they', 'them', 'their', 'theirs', 'themselves', 'what', 'which', 'who', 'whom', 'this', 'that', \n",
    "        \"that'll\", 'these', 'those', 'am', 'is', 'are', 'was', 'were', 'be', 'been', 'being', 'have', \n",
    "        'has', 'had', 'having', 'do', 'does', 'did', 'doing', 'a', 'an', 'the', 'and', 'if', 'or', 'ive',\n",
    "        'because', 'as', 'until', 'while', 'of', 'at', 'by', 'for', 'with', 'about', 'between', \n",
    "        'into', 'through', 'during', 'before', 'after', 'above', 'below', 'to', 'from', 'up', 'down', 'in', \n",
    "        'out', 'on', 'off', 'over', 'under', 'further', 'then', 'once', 'here', 'there', 'theres','when', 'where',\n",
    "        'why', 'how', 'all', 'any', 'both', 'each', 'few', 'more', 'most', 'other', 'some', 'such',\n",
    "        'only', 'own', 'same', 'so', 'than', 'too', 'very', 's', 't', 'can', 'will', 'just', \n",
    "        'should', \"should've\", 'now', 'd', 'll', 'm', 'o', 're', 've', 'y','u','ur']\n",
    "\n",
    "#unbiased\n",
    "for i in range(comment_data.size):\n",
    "    comment_data[i] = PUNCTUATION_NO_SPACE.sub(\"\",comment_data[i].lower())\n",
    "    comment_data[i] = NEWLINE.sub(\"\",comment_data[i])\n",
    "    comment_data[i] = PUNCTUATION_SPACE.sub(\" \",comment_data[i].lower())\n",
    "    comment_data[i] = comment_data[i].split()\n",
    "    comment_data[i] = [word for word in comment_data[i] if word not in skip]\n",
    "\n",
    "\n",
    "#biased\n",
    "for i in range(comment_data_b.size):\n",
    "    comment_data_b[i] = PUNCTUATION_NO_SPACE.sub(\"\",comment_data_b[i].lower())\n",
    "    comment_data_b[i] = NEWLINE.sub(\"\",comment_data_b[i])\n",
    "    comment_data_b[i] = PUNCTUATION_SPACE.sub(\" \",comment_data_b[i].lower())\n",
    "    comment_data_b[i] = comment_data_b[i].split()\n",
    "    comment_data_b[i] = [word for word in comment_data_b[i] if word not in skip]\n",
    "    \n",
    "print(comment_data[0])\n",
    "\n",
    "#stop_list = nltk.corpus.stopwords.words(\"english\")"
   ]
  },
  {
   "cell_type": "code",
   "execution_count": 147,
   "metadata": {},
   "outputs": [
    {
     "name": "stdout",
     "output_type": "stream",
     "text": [
      "ok\n"
     ]
    }
   ],
   "source": [
    "#scored trial\n",
    "for i in range(trial_comment.size):\n",
    "    trial_comment[i] = PUNCTUATION_NO_SPACE.sub(\"\",trial_comment[i].lower())\n",
    "    trial_comment[i] = NEWLINE.sub(\"\",trial_comment[i])\n",
    "    trial_comment[i] = PUNCTUATION_SPACE.sub(\" \",trial_comment[i].lower())\n",
    "    trial_comment[i] = trial_comment[i].split()\n",
    "    trial_comment[i] = [word for word in trial_comment[i] if word not in skip]\n",
    "print(\"ok\")"
   ]
  },
  {
   "cell_type": "code",
   "execution_count": 148,
   "metadata": {},
   "outputs": [
    {
     "name": "stderr",
     "output_type": "stream",
     "text": [
      "[nltk_data] Downloading package wordnet to /Users/Fenggq/nltk_data...\n",
      "[nltk_data]   Package wordnet is already up-to-date!\n"
     ]
    },
    {
     "name": "stdout",
     "output_type": "stream",
     "text": [
      "not creative dictionary definition term insurance ensurance properly applied destruction dont understand fine legitimate criticism ill write three man cell bounty hunter easy understand ensured insured different differ assuredthe sentence quote absolutely neutral arent familiar underlying theory strike back eg submarine employed nuclear warfare guiding insurance nor likely three man cell structure kept ira broken british thats fault fine fix explain but nothing personal creative itim tired arguing article multi party turn plenty use mutually mutual apply standard id moving mutual assured destruction talk not appealing reagan voter bias effectiveness dropping lythere double standard edits come u history book like peace movement mad defined 1950 like even definition totally useless 2002 historical interest make even obvious connection implication language chosen multiple profession specific term consider somehow non neutral gandhi think eye eye describes riot death penalty war but dont know gandhi doesntguess reality not neutral current use term slightly controversial neutrality requires negotiation willingness learnthis problem not mine may dislike writing fine fixed but disregarding fundamental axiom philosphy name recur multiple phrase failing make critical distinction like insurance versus assurance versus ensurance made one quote air force general context quote disservice readerif someone come research topic like mad want context beyond historyif history book fine history book but wasnt claimed\n"
     ]
    }
   ],
   "source": [
    "#Removing different ending of the same word\n",
    "from nltk.stem import WordNetLemmatizer\n",
    "\n",
    "nltk.download('wordnet')\n",
    "\n",
    "for i in range(comment_data.size):\n",
    "    lemmatizer = WordNetLemmatizer()\n",
    "    comment_data[i] = ' '.join([lemmatizer.lemmatize(word) for word in comment_data[i]])\n",
    "    \n",
    "for i in range(comment_data_b.size):\n",
    "    lemmatizer = WordNetLemmatizer()\n",
    "    comment_data_b[i] = ' '.join([lemmatizer.lemmatize(word) for word in comment_data_b[i]])\n",
    "    \n",
    "print(comment_data_b[0])"
   ]
  },
  {
   "cell_type": "code",
   "execution_count": 149,
   "metadata": {},
   "outputs": [
    {
     "name": "stdout",
     "output_type": "stream",
     "text": [
      "ok\n"
     ]
    }
   ],
   "source": [
    "#trial scored \n",
    "for i in range(trial_comment.size):\n",
    "    lemmatizer = WordNetLemmatizer()\n",
    "    trial_comment[i] = ' '.join([lemmatizer.lemmatize(word) for word in trial_comment[i]])\n",
    "    \n",
    "print(\"ok\")"
   ]
  },
  {
   "cell_type": "code",
   "execution_count": 150,
   "metadata": {},
   "outputs": [
    {
     "name": "stdout",
     "output_type": "stream",
     "text": [
      "Number of Aggressive comments within the sample: 3627\n",
      "Number of Neutral comments within the sample: 25933\n",
      "Percentage of Aggressive comments in biased dataset: % 12.269959404600812\n",
      "Percentage of Aggressive comments in unbiased dataset: % 50.0\n"
     ]
    }
   ],
   "source": [
    "#Input target for binary model(aggressive or neutral)\n",
    "annotation = pd.read_csv('aggression_annotations.tsv', sep = '\\t', nrows=Number_of_entry*20)\n",
    "rev_id = annotation.rev_id\n",
    "target_raw = annotation.aggression\n",
    "target_pro = np.zeros(Number_of_entry)\n",
    "\n",
    "ctr = 0\n",
    "ctr_aggre = 0\n",
    "ctr_neut = 0\n",
    "for i in range(target_pro.size):\n",
    "    ctr2 = 0\n",
    "    aggr = 0\n",
    "    curr_rev_id = rev_id[ctr]\n",
    "    while curr_rev_id == rev_id[ctr]:\n",
    "        aggr += target_raw[ctr]\n",
    "        ctr += 1\n",
    "        ctr2 += 1\n",
    "    #print(ctr2)\n",
    "    if (aggr/ctr2 > 0.5):\n",
    "        target_pro[i] = 1\n",
    "        ctr_aggre += 1\n",
    "    else:\n",
    "        target_pro[i] = 0\n",
    "        ctr_neut += 1\n",
    "\n",
    "print('Number of Aggressive comments within the sample:', ctr_aggre)\n",
    "print('Number of Neutral comments within the sample:', ctr_neut)\n",
    "print('Percentage of Aggressive comments in biased dataset: %', (ctr_aggre / Number_of_entry)*100)\n",
    "\n",
    "ctr_aggre_unbias = 0\n",
    "for i in range(target_unbias.size):\n",
    "    if (target_unbias[i] > 0.5):\n",
    "        target_unbias[i] = 1\n",
    "        ctr_aggre_unbias += 1\n",
    "    else:\n",
    "        target_unbias[i] = 0\n",
    "print('Percentage of Aggressive comments in unbiased dataset: %', (ctr_aggre_unbias/ Number_of_entry)*100)"
   ]
  },
  {
   "cell_type": "code",
   "execution_count": 151,
   "metadata": {},
   "outputs": [
    {
     "name": "stdout",
     "output_type": "stream",
     "text": [
      "Number of 0 scored comments in biased sample: 1895\n",
      "Number of 1 scored comments in biased sample: 3792\n",
      "Number of 2 scored comments in biased sample: 22565\n",
      "Number of 3 scored comments in biased sample: 1271\n",
      "Number of 4 scored comments in biased sample: 37\n",
      "Percentage of 2 scored comments in biased sample:  0.7633626522327469\n",
      "\n",
      "\n",
      "Number of 0 scored comments in unbiased sample: 8146\n",
      "Number of 1 scored comments in unbiased sample: 6697\n",
      "Number of 2 scored comments in unbiased sample: 13833\n",
      "Number of 3 scored comments in unbiased sample: 855\n",
      "Number of 4 scored comments in unbiased sample: 29\n",
      "Percentage of 2 scored comments in unbiased sample:  0.4679634641407307\n"
     ]
    }
   ],
   "source": [
    "#Calculates target scores based on scores of 2 to -2 \n",
    "#(most friendly to most aggressive)\n",
    "score_raw = annotation.aggression_score\n",
    "score_pro = np.zeros(Number_of_entry)\n",
    "\n",
    "\n",
    "#biased\n",
    "ctr = 0\n",
    "ctr0 = 0\n",
    "ctr1 = 0\n",
    "ctr2 = 0\n",
    "ctr3 = 0\n",
    "ctr4 = 0\n",
    "for i in range(score_pro.size):\n",
    "    count = 0\n",
    "    aggr = 0\n",
    "    curr_rev_id = rev_id[ctr]\n",
    "    while curr_rev_id == rev_id[ctr]:\n",
    "        aggr += score_raw[ctr]\n",
    "        count += 1\n",
    "        ctr += 1 \n",
    "    if (count == 0):\n",
    "        print(\"problem with\", ctr)\n",
    "        print(rev_id[ctr])\n",
    "        break\n",
    "    if (aggr/count > 1.5):\n",
    "        score_pro[i] = 4\n",
    "        ctr4 += 1\n",
    "    elif (aggr/count > 0.5):\n",
    "        score_pro[i] = 3\n",
    "        ctr3 += 1\n",
    "    elif (aggr/count > -0.5):\n",
    "        score_pro[i] = 2\n",
    "        ctr2 += 1\n",
    "    elif (aggr/count > -1.5):\n",
    "        score_pro[i] = 1\n",
    "        ctr1 += 1\n",
    "    else:\n",
    "        score_pro[i] = 0\n",
    "        ctr0 += 1\n",
    "    \n",
    "print(\"Number of 0 scored comments in biased sample:\", ctr0)\n",
    "print(\"Number of 1 scored comments in biased sample:\", ctr1)\n",
    "print(\"Number of 2 scored comments in biased sample:\", ctr2)\n",
    "print(\"Number of 3 scored comments in biased sample:\", ctr3)\n",
    "print(\"Number of 4 scored comments in biased sample:\", ctr4)\n",
    "print(\"Percentage of 2 scored comments in biased sample: \", (ctr2/score_pro.size))\n",
    "print(\"\\n\")\n",
    "\n",
    "\n",
    "#Trial data\n",
    "trial_target = np.zeros(Number_of_entry)\n",
    "\n",
    "ctr = 0\n",
    "ctr0 = 0\n",
    "ctr1 = 0\n",
    "ctr2 = 0\n",
    "ctr3 = 0\n",
    "ctr4 = 0\n",
    "\n",
    "for i in range(Number_of_entry):\n",
    "    if (trial_score[i] > 3.5):\n",
    "        trial_target[i] = 4\n",
    "        ctr4 += 1\n",
    "    elif (trial_score[i] > 2.5):\n",
    "        trial_target[i] = 3\n",
    "        ctr3 += 1\n",
    "    elif (trial_score[i] > 1.5):\n",
    "        trial_target[i] = 2\n",
    "        ctr2 += 1\n",
    "    elif (trial_score[i] > 0.5):\n",
    "        trial_target[i] = 1\n",
    "        ctr1 += 1\n",
    "    else:\n",
    "        trial_target[i] = 0\n",
    "        ctr0 += 1\n",
    "    \n",
    "print(\"Number of 0 scored comments in unbiased sample:\", ctr0)\n",
    "print(\"Number of 1 scored comments in unbiased sample:\", ctr1)\n",
    "print(\"Number of 2 scored comments in unbiased sample:\", ctr2)\n",
    "print(\"Number of 3 scored comments in unbiased sample:\", ctr3)\n",
    "print(\"Number of 4 scored comments in unbiased sample:\", ctr4)\n",
    "print(\"Percentage of 2 scored comments in unbiased sample: \", (ctr2/Number_of_entry))"
   ]
  },
  {
   "cell_type": "markdown",
   "metadata": {},
   "source": [
    "# Model for binary prediction\n",
    "Uses the TfidfVectorizer and LinearSVC model"
   ]
  },
  {
   "cell_type": "code",
   "execution_count": 162,
   "metadata": {},
   "outputs": [
    {
     "name": "stdout",
     "output_type": "stream",
     "text": [
      "Unbias data Accuracy:  0.843041271989175\n"
     ]
    },
    {
     "ename": "ValueError",
     "evalue": "Found input variables with inconsistent numbers of samples: [10000, 29560]",
     "output_type": "error",
     "traceback": [
      "\u001b[0;31m---------------------------------------------------------------------------\u001b[0m",
      "\u001b[0;31mValueError\u001b[0m                                Traceback (most recent call last)",
      "\u001b[0;32m<ipython-input-162-5cf3b8843b49>\u001b[0m in \u001b[0;36m<module>\u001b[0;34m\u001b[0m\n\u001b[1;32m     41\u001b[0m \u001b[0;34m\u001b[0m\u001b[0m\n\u001b[1;32m     42\u001b[0m data_train_b, data_test_b, target_train_b, target_test_b = train_test_split(\n\u001b[0;32m---> 43\u001b[0;31m     comment_vectorized_b, target_pro, test_size = 0.1)\n\u001b[0m\u001b[1;32m     44\u001b[0m \u001b[0;34m\u001b[0m\u001b[0m\n\u001b[1;32m     45\u001b[0m \u001b[0mmodel_bias\u001b[0m \u001b[0;34m=\u001b[0m \u001b[0mLinearSVC\u001b[0m\u001b[0;34m(\u001b[0m\u001b[0mC\u001b[0m\u001b[0;34m=\u001b[0m\u001b[0;36m0.01\u001b[0m\u001b[0;34m)\u001b[0m\u001b[0;34m\u001b[0m\u001b[0;34m\u001b[0m\u001b[0m\n",
      "\u001b[0;32m~/anaconda3/lib/python3.7/site-packages/sklearn/model_selection/_split.py\u001b[0m in \u001b[0;36mtrain_test_split\u001b[0;34m(*arrays, **options)\u001b[0m\n\u001b[1;32m   2182\u001b[0m         \u001b[0mtest_size\u001b[0m \u001b[0;34m=\u001b[0m \u001b[0;36m0.25\u001b[0m\u001b[0;34m\u001b[0m\u001b[0;34m\u001b[0m\u001b[0m\n\u001b[1;32m   2183\u001b[0m \u001b[0;34m\u001b[0m\u001b[0m\n\u001b[0;32m-> 2184\u001b[0;31m     \u001b[0marrays\u001b[0m \u001b[0;34m=\u001b[0m \u001b[0mindexable\u001b[0m\u001b[0;34m(\u001b[0m\u001b[0;34m*\u001b[0m\u001b[0marrays\u001b[0m\u001b[0;34m)\u001b[0m\u001b[0;34m\u001b[0m\u001b[0;34m\u001b[0m\u001b[0m\n\u001b[0m\u001b[1;32m   2185\u001b[0m \u001b[0;34m\u001b[0m\u001b[0m\n\u001b[1;32m   2186\u001b[0m     \u001b[0;32mif\u001b[0m \u001b[0mshuffle\u001b[0m \u001b[0;32mis\u001b[0m \u001b[0;32mFalse\u001b[0m\u001b[0;34m:\u001b[0m\u001b[0;34m\u001b[0m\u001b[0;34m\u001b[0m\u001b[0m\n",
      "\u001b[0;32m~/anaconda3/lib/python3.7/site-packages/sklearn/utils/validation.py\u001b[0m in \u001b[0;36mindexable\u001b[0;34m(*iterables)\u001b[0m\n\u001b[1;32m    258\u001b[0m         \u001b[0;32melse\u001b[0m\u001b[0;34m:\u001b[0m\u001b[0;34m\u001b[0m\u001b[0;34m\u001b[0m\u001b[0m\n\u001b[1;32m    259\u001b[0m             \u001b[0mresult\u001b[0m\u001b[0;34m.\u001b[0m\u001b[0mappend\u001b[0m\u001b[0;34m(\u001b[0m\u001b[0mnp\u001b[0m\u001b[0;34m.\u001b[0m\u001b[0marray\u001b[0m\u001b[0;34m(\u001b[0m\u001b[0mX\u001b[0m\u001b[0;34m)\u001b[0m\u001b[0;34m)\u001b[0m\u001b[0;34m\u001b[0m\u001b[0;34m\u001b[0m\u001b[0m\n\u001b[0;32m--> 260\u001b[0;31m     \u001b[0mcheck_consistent_length\u001b[0m\u001b[0;34m(\u001b[0m\u001b[0;34m*\u001b[0m\u001b[0mresult\u001b[0m\u001b[0;34m)\u001b[0m\u001b[0;34m\u001b[0m\u001b[0;34m\u001b[0m\u001b[0m\n\u001b[0m\u001b[1;32m    261\u001b[0m     \u001b[0;32mreturn\u001b[0m \u001b[0mresult\u001b[0m\u001b[0;34m\u001b[0m\u001b[0;34m\u001b[0m\u001b[0m\n\u001b[1;32m    262\u001b[0m \u001b[0;34m\u001b[0m\u001b[0m\n",
      "\u001b[0;32m~/anaconda3/lib/python3.7/site-packages/sklearn/utils/validation.py\u001b[0m in \u001b[0;36mcheck_consistent_length\u001b[0;34m(*arrays)\u001b[0m\n\u001b[1;32m    233\u001b[0m     \u001b[0;32mif\u001b[0m \u001b[0mlen\u001b[0m\u001b[0;34m(\u001b[0m\u001b[0muniques\u001b[0m\u001b[0;34m)\u001b[0m \u001b[0;34m>\u001b[0m \u001b[0;36m1\u001b[0m\u001b[0;34m:\u001b[0m\u001b[0;34m\u001b[0m\u001b[0;34m\u001b[0m\u001b[0m\n\u001b[1;32m    234\u001b[0m         raise ValueError(\"Found input variables with inconsistent numbers of\"\n\u001b[0;32m--> 235\u001b[0;31m                          \" samples: %r\" % [int(l) for l in lengths])\n\u001b[0m\u001b[1;32m    236\u001b[0m \u001b[0;34m\u001b[0m\u001b[0m\n\u001b[1;32m    237\u001b[0m \u001b[0;34m\u001b[0m\u001b[0m\n",
      "\u001b[0;31mValueError\u001b[0m: Found input variables with inconsistent numbers of samples: [10000, 29560]"
     ]
    }
   ],
   "source": [
    "#model for binary predicting\n",
    "#default TF-idf vectorizer\n",
    "from sklearn.feature_extraction.text import TfidfVectorizer\n",
    "from sklearn.linear_model import LogisticRegression\n",
    "from sklearn.metrics import accuracy_score\n",
    "from sklearn.model_selection import train_test_split\n",
    "from sklearn.svm import LinearSVC\n",
    "\n",
    "\n",
    "#print(type(comment_data[0]))\n",
    "ngram_arc = np.zeros(5)\n",
    "\n",
    "comment_data = np.asarray(comment_data)\n",
    "\n",
    "tfidf_vectorizer = TfidfVectorizer(ngram_range=(1, 1))\n",
    "tfidf_vectorizer.fit(comment_data)\n",
    "comment_vectorized = tfidf_vectorizer.transform(comment_data)\n",
    "    \n",
    "def accuracy_test(ind, c=0.01, trials=100):\n",
    "    total = 0\n",
    "    #print(comment_vectorized.shape)\n",
    "    model = None\n",
    "    for i in range(trials):\n",
    "        data_train, data_test, target_train, target_test = train_test_split(\n",
    "            comment_vectorized, target_unbias, test_size = 0.1)\n",
    "\n",
    "        model = LinearSVC(C=0.01)\n",
    "        model.fit(data_train, target_train)\n",
    "        total += accuracy_score(target_test, model.predict(data_test))\n",
    "    accuracy = total / trials\n",
    "    ngram_arc[ind] = accuracy\n",
    "    print(\"Unbias data Accuracy: \", accuracy)\n",
    "    return model\n",
    "\n",
    "model_ub = accuracy_test(ind = 2)\n",
    "\n",
    "\n",
    "tfidf_vectorizer_b = TfidfVectorizer(ngram_range=(1, 3))\n",
    "tfidf_vectorizer_b.fit(comment_data_b)\n",
    "comment_vectorized_b = tfidf_vectorizer_b.transform(comment_data_b)\n",
    "\n",
    "data_train_b, data_test_b, target_train_b, target_test_b = train_test_split(\n",
    "    comment_vectorized_b, target_pro, test_size = 0.1)\n",
    "\n",
    "model_bias = LinearSVC(C=0.01)\n",
    "model_bias.fit(data_train_b, target_train_b)\n",
    "accuracy = accuracy_score(target_test_b, model_bias.predict(data_test_b))\n",
    "print(\"Bias data Accuracy: \", accuracy)"
   ]
  },
  {
   "cell_type": "code",
   "execution_count": 153,
   "metadata": {},
   "outputs": [
    {
     "name": "stdout",
     "output_type": "stream",
     "text": [
      "Unbias data Accuracy:  0.8418200270635997\n",
      "Unbias data Accuracy:  0.835236806495264\n",
      "Unbias data Accuracy:  0.8302029769959407\n",
      "Unbias data Accuracy:  0.826346414073072\n",
      "Unbias data Accuracy:  0.8243978349120432\n"
     ]
    }
   ],
   "source": [
    "#model for binary predicting\n",
    "#default TF-idf vectorizer\n",
    "#with ngram = 1-5\n",
    "for j in range(ngram_arc.size):\n",
    "    tfidf_vectorizer = TfidfVectorizer(ngram_range=(1, j+1))\n",
    "    tfidf_vectorizer.fit(comment_data)\n",
    "    comment_vectorized = tfidf_vectorizer.transform(comment_data)\n",
    "    model_ub_1 = accuracy_test(ind = j, trials = 50)"
   ]
  },
  {
   "cell_type": "code",
   "execution_count": 154,
   "metadata": {},
   "outputs": [
    {
     "data": {
      "text/plain": [
       "<function matplotlib.pyplot.show(*args, **kw)>"
      ]
     },
     "execution_count": 154,
     "metadata": {},
     "output_type": "execute_result"
    },
    {
     "data": {
      "image/png": "[encoded data removed]",
      "text/plain": [
       "<Figure size 432x288 with 1 Axes>"
      ]
     },
     "metadata": {
      "needs_background": "light"
     },
     "output_type": "display_data"
    }
   ],
   "source": [
    "fig, ax = plt.subplots()\n",
    "ax.plot([1,2,3,4,5],ngram_arc)\n",
    "ax.set(xlabel='Ngram', ylabel='Accuracy',\n",
    "       title='How Ngram Affect the Accuracy of the Model')\n",
    "plt.show"
   ]
  },
  {
   "cell_type": "code",
   "execution_count": 155,
   "metadata": {},
   "outputs": [
    {
     "name": "stdout",
     "output_type": "stream",
     "text": [
      "Unbiased model\n",
      "Aggressive:  ('chutzpah fucking', 2.201751888796368)\n",
      "Aggressive:  ('citing better driver better looking', 1.5683902798645415)\n",
      "Aggressive:  ('hadas flew', 1.1391597531455668)\n",
      "Aggressive:  ('howl protest gang gutless thug', 1.0414044718240714)\n",
      "Aggressive:  ('hot debate including arcticle', 0.9205611034093564)\n",
      "Aggressive:  ('agree serbia would', 0.8977057281636251)\n",
      "Aggressive:  ('correct noticeboard', 0.8799959714203902)\n",
      "Aggressive:  ('another question but', 0.8542800083569695)\n",
      "Aggressive:  ('air force think', 0.8279199360433724)\n",
      "Aggressive:  ('homo asswipe suck balls dick', 0.7319747614520095)\n",
      "Friendly:  ('again thou wilt worst', -1.1459386791637038)\n",
      "Friendly:  ('arbitrarily deciding whether', -0.680203619595961)\n",
      "Friendly:  ('implying policy force', -0.6376439611385017)\n",
      "Friendly:  ('enslavement seeing still generally', -0.6319969297301548)\n",
      "Friendly:  ('lazy as keeping admin back', -0.6097469615053794)\n",
      "Friendly:  ('fermi scale published herbert', -0.5891813190403585)\n",
      "Friendly:  ('different spelling aryana indeed come', -0.5268597379185359)\n",
      "Friendly:  ('graceful slickis non ungraceful dick', -0.49853988382019815)\n",
      "Friendly:  ('explain reference talk etc please', -0.4757475168078404)\n",
      "Friendly:  ('implemented along wayit roll', -0.4622890179107126)\n",
      "Biased model\n",
      "Aggressive:  ('though packaging', 1.678243962677433)\n",
      "Aggressive:  ('three article', 0.9931820861412362)\n",
      "Aggressive:  ('crime biased', 0.6462896140776114)\n",
      "Aggressive:  ('evolving much one', 0.5663861493606426)\n",
      "Aggressive:  ('trainingartwikimedia battlefield cyber', 0.5138949026295861)\n",
      "Aggressive:  ('danzig quite bit', 0.47810441871718)\n",
      "Aggressive:  ('name used aromanians', 0.4305095444716459)\n",
      "Aggressive:  ('orlowski clearly', 0.42948688753217784)\n",
      "Aggressive:  ('used refer amerind', 0.36309641805065546)\n",
      "Aggressive:  ('wrong right spelling', 0.3546163911348545)\n",
      "Friendly:  ('consider making attempt', -0.46527469502209107)\n",
      "Friendly:  ('fusion page', -0.25668477887034635)\n",
      "Friendly:  ('box would', -0.13988636831150433)\n",
      "Friendly:  ('mediation two', -0.13822425551440665)\n",
      "Friendly:  ('began commercial music', -0.12080012110988522)\n",
      "Friendly:  ('article ali', -0.11551498466731548)\n",
      "Friendly:  ('arjun son', -0.11183150638965121)\n",
      "Friendly:  ('help wanted', -0.10931054222824574)\n",
      "Friendly:  ('wwwsolargeneralcom library', -0.10744527515595047)\n",
      "Friendly:  ('act 1982 came', -0.10701752405855904)\n"
     ]
    }
   ],
   "source": [
    "#Words most associated with aggression/friendliness\n",
    "\n",
    "def agg_friendly_words(model, tv):\n",
    "    feature_to_coef = {\n",
    "        word: coef for word, coef in zip(\n",
    "            tv.get_feature_names(), model.coef_[0]\n",
    "        )\n",
    "    }\n",
    "\n",
    "    for best_negative in sorted(feature_to_coef.items(), key=lambda x: x[1], reverse=True)[:10]:\n",
    "        print (\"Aggressive: \", best_negative)\n",
    "\n",
    "    for best_positive in sorted(feature_to_coef.items(), key=lambda x: x[1])[:10]:\n",
    "        print (\"Friendly: \", best_positive)\n",
    "\n",
    "print(\"Unbiased model\")\n",
    "agg_friendly_words(model_ub, tfidf_vectorizer)\n",
    "print(\"Biased model\")\n",
    "agg_friendly_words(model_bias, tfidf_vectorizer_b)\n"
   ]
  },
  {
   "cell_type": "code",
   "execution_count": 156,
   "metadata": {},
   "outputs": [
    {
     "ename": "ValueError",
     "evalue": "X has 3003415 features per sample; expecting 1457912",
     "output_type": "error",
     "traceback": [
      "\u001b[0;31m---------------------------------------------------------------------------\u001b[0m",
      "\u001b[0;31mValueError\u001b[0m                                Traceback (most recent call last)",
      "\u001b[0;32m<ipython-input-156-242587e5b499>\u001b[0m in \u001b[0;36m<module>\u001b[0;34m\u001b[0m\n\u001b[1;32m      1\u001b[0m \u001b[0;31m#check predicted aggressive comments by the unbias model\u001b[0m\u001b[0;34m\u001b[0m\u001b[0;34m\u001b[0m\u001b[0;34m\u001b[0m\u001b[0m\n\u001b[0;32m----> 2\u001b[0;31m \u001b[0mpred_result\u001b[0m \u001b[0;34m=\u001b[0m \u001b[0mmodel_ub\u001b[0m\u001b[0;34m.\u001b[0m\u001b[0mpredict\u001b[0m\u001b[0;34m(\u001b[0m\u001b[0mcomment_vectorized\u001b[0m\u001b[0;34m)\u001b[0m\u001b[0;34m\u001b[0m\u001b[0;34m\u001b[0m\u001b[0m\n\u001b[0m\u001b[1;32m      3\u001b[0m \u001b[0mprint\u001b[0m\u001b[0;34m(\u001b[0m\u001b[0mpred_result\u001b[0m\u001b[0;34m.\u001b[0m\u001b[0mshape\u001b[0m\u001b[0;34m)\u001b[0m\u001b[0;34m\u001b[0m\u001b[0;34m\u001b[0m\u001b[0m\n\u001b[1;32m      4\u001b[0m \u001b[0;34m\u001b[0m\u001b[0m\n\u001b[1;32m      5\u001b[0m \u001b[0mindex_arr\u001b[0m \u001b[0;34m=\u001b[0m \u001b[0;34m[\u001b[0m\u001b[0;34m]\u001b[0m\u001b[0;34m\u001b[0m\u001b[0;34m\u001b[0m\u001b[0m\n",
      "\u001b[0;32m~/anaconda3/lib/python3.7/site-packages/sklearn/linear_model/base.py\u001b[0m in \u001b[0;36mpredict\u001b[0;34m(self, X)\u001b[0m\n\u001b[1;32m    279\u001b[0m             \u001b[0mPredicted\u001b[0m \u001b[0;32mclass\u001b[0m \u001b[0mlabel\u001b[0m \u001b[0mper\u001b[0m \u001b[0msample\u001b[0m\u001b[0;34m.\u001b[0m\u001b[0;34m\u001b[0m\u001b[0;34m\u001b[0m\u001b[0m\n\u001b[1;32m    280\u001b[0m         \"\"\"\n\u001b[0;32m--> 281\u001b[0;31m         \u001b[0mscores\u001b[0m \u001b[0;34m=\u001b[0m \u001b[0mself\u001b[0m\u001b[0;34m.\u001b[0m\u001b[0mdecision_function\u001b[0m\u001b[0;34m(\u001b[0m\u001b[0mX\u001b[0m\u001b[0;34m)\u001b[0m\u001b[0;34m\u001b[0m\u001b[0;34m\u001b[0m\u001b[0m\n\u001b[0m\u001b[1;32m    282\u001b[0m         \u001b[0;32mif\u001b[0m \u001b[0mlen\u001b[0m\u001b[0;34m(\u001b[0m\u001b[0mscores\u001b[0m\u001b[0;34m.\u001b[0m\u001b[0mshape\u001b[0m\u001b[0;34m)\u001b[0m \u001b[0;34m==\u001b[0m \u001b[0;36m1\u001b[0m\u001b[0;34m:\u001b[0m\u001b[0;34m\u001b[0m\u001b[0;34m\u001b[0m\u001b[0m\n\u001b[1;32m    283\u001b[0m             \u001b[0mindices\u001b[0m \u001b[0;34m=\u001b[0m \u001b[0;34m(\u001b[0m\u001b[0mscores\u001b[0m \u001b[0;34m>\u001b[0m \u001b[0;36m0\u001b[0m\u001b[0;34m)\u001b[0m\u001b[0;34m.\u001b[0m\u001b[0mastype\u001b[0m\u001b[0;34m(\u001b[0m\u001b[0mnp\u001b[0m\u001b[0;34m.\u001b[0m\u001b[0mint\u001b[0m\u001b[0;34m)\u001b[0m\u001b[0;34m\u001b[0m\u001b[0;34m\u001b[0m\u001b[0m\n",
      "\u001b[0;32m~/anaconda3/lib/python3.7/site-packages/sklearn/linear_model/base.py\u001b[0m in \u001b[0;36mdecision_function\u001b[0;34m(self, X)\u001b[0m\n\u001b[1;32m    260\u001b[0m         \u001b[0;32mif\u001b[0m \u001b[0mX\u001b[0m\u001b[0;34m.\u001b[0m\u001b[0mshape\u001b[0m\u001b[0;34m[\u001b[0m\u001b[0;36m1\u001b[0m\u001b[0;34m]\u001b[0m \u001b[0;34m!=\u001b[0m \u001b[0mn_features\u001b[0m\u001b[0;34m:\u001b[0m\u001b[0;34m\u001b[0m\u001b[0;34m\u001b[0m\u001b[0m\n\u001b[1;32m    261\u001b[0m             raise ValueError(\"X has %d features per sample; expecting %d\"\n\u001b[0;32m--> 262\u001b[0;31m                              % (X.shape[1], n_features))\n\u001b[0m\u001b[1;32m    263\u001b[0m \u001b[0;34m\u001b[0m\u001b[0m\n\u001b[1;32m    264\u001b[0m         scores = safe_sparse_dot(X, self.coef_.T,\n",
      "\u001b[0;31mValueError\u001b[0m: X has 3003415 features per sample; expecting 1457912"
     ]
    }
   ],
   "source": [
    "#check predicted aggressive comments by the unbias model\n",
    "pred_result = model_ub.predict(comment_vectorized)\n",
    "print(pred_result.shape)\n",
    "\n",
    "index_arr = []\n",
    "\n",
    "pred_ctr = 0\n",
    "for i in range(pred_result.size):\n",
    "    #print(int(pred_result[0]))\n",
    "    if(int(pred_result[i]) == 1):\n",
    "        print(i)\n",
    "        print(comment_data[i])\n",
    "        index_arr.append(i)\n",
    "        pred_ctr += 1\n",
    "        \n",
    "index_arr = np.asarray(index_arr)\n",
    "print(index_arr.shape)\n",
    "    \n",
    "accuracy2 = accuracy_score(target_unbias, model.predict(comment_vectorized))\n",
    "print(accuracy2)"
   ]
  },
  {
   "cell_type": "markdown",
   "metadata": {},
   "source": [
    "# Model for score prediction\n",
    "Uses the biased and trial datasets"
   ]
  },
  {
   "cell_type": "code",
   "execution_count": 16,
   "metadata": {
    "scrolled": true
   },
   "outputs": [
    {
     "name": "stdout",
     "output_type": "stream",
     "text": [
      "Linear SVC 0.786\n"
     ]
    },
    {
     "name": "stderr",
     "output_type": "stream",
     "text": [
      "/Users/Kiara/anaconda3/lib/python3.7/site-packages/sklearn/linear_model/logistic.py:433: FutureWarning: Default solver will be changed to 'lbfgs' in 0.22. Specify a solver to silence this warning.\n",
      "  FutureWarning)\n",
      "/Users/Kiara/anaconda3/lib/python3.7/site-packages/sklearn/linear_model/logistic.py:460: FutureWarning: Default multi_class will be changed to 'auto' in 0.22. Specify the multi_class option to silence this warning.\n",
      "  \"this warning.\", FutureWarning)\n"
     ]
    },
    {
     "name": "stdout",
     "output_type": "stream",
     "text": [
      "Logistic regression 0.786\n"
     ]
    }
   ],
   "source": [
    "#Training and testing with biased score data\n",
    "data_s_train, data_s_test, score_train, score_test = train_test_split(\n",
    "    comment_vectorized, score_pro, test_size = 0.1)\n",
    "\n",
    "score_model = LinearSVC(C=0.01)\n",
    "score_model.fit(data_s_train, score_train)\n",
    "score_accuracy = accuracy_score(score_test, score_model.predict(data_s_test))\n",
    "print(\"Linear SVC\", score_accuracy)\n",
    "\n",
    "lr_model = LogisticRegression(C=1)\n",
    "lr_model.fit(data_s_train, score_train)\n",
    "lr_accuracy = accuracy_score(score_test, lr_model.predict(data_s_test))\n",
    "print(\"Logistic regression\", lr_accuracy)\n",
    "\n",
    "\n",
    "def accuracy_test(c=0.01, trials=100):\n",
    "    total = 0\n",
    "    for i in range(trials):\n",
    "        data_s_train, data_s_test, score_train, score_test = train_test_split(\n",
    "            comment_vectorized, score_pro, test_size = 0.1)\n",
    "\n",
    "        score_model = LinearSVC(C=0.01,multi_class='ovr')\n",
    "        score_model.fit(data_s_train, score_train)\n",
    "        total += accuracy_score(score_test, score_model.predict(data_s_test))\n",
    "    accuracy = total / trials\n",
    "    print(\"Accuracy: \", accuracy)\n",
    "\n",
    "#accuracy_test()\n",
    "\n",
    "def lr_test(c=0.01, trials=100):\n",
    "    total = 0\n",
    "    for i in range(trials):\n",
    "        data_s_train, data_s_test, score_train, score_test = train_test_split(\n",
    "            comment_vectorized, score_pro, test_size = 0.1)\n",
    "\n",
    "        score_model = LogisticRegression(C=c,multi_class='ovr')\n",
    "        score_model.fit(data_s_train, score_train)\n",
    "        total += accuracy_score(score_test, score_model.predict(data_s_test))\n",
    "    accuracy = total / trials\n",
    "    print(\"LR accuracy: \", accuracy)\n",
    "#lr_test(c=0.05)\n",
    "#lr_test(c=1)"
   ]
  },
  {
   "cell_type": "code",
   "execution_count": 65,
   "metadata": {},
   "outputs": [
    {
     "name": "stdout",
     "output_type": "stream",
     "text": [
      "Linear SVC 0.5855886332882273\n",
      "Logistic regression 0.7046684709066305\n"
     ]
    }
   ],
   "source": [
    "#Trial data training\n",
    "\n",
    "trial_comment = np.asarray(trial_comment)\n",
    "tfidf_vectorizer = TfidfVectorizer(ngram_range=(1, 3))\n",
    "tfidf_vectorizer.fit(trial_comment)\n",
    "trial_data = tfidf_vectorizer.transform(trial_comment)\n",
    "\n",
    "\n",
    "trial_data_train, trial_data_test, trial_target_train, trial_target_test = train_test_split(\n",
    "    trial_data, trial_target, test_size = 0.1)\n",
    "\n",
    "trial_model = LinearSVC(C=0.01)\n",
    "trial_model.fit(trial_data_train, trial_target_train)\n",
    "trial_accuracy = accuracy_score(trial_target_test, trial_model.predict(trial_data_test))\n",
    "print(\"Linear SVC\", trial_accuracy)\n",
    "\n",
    "lrt_model = LogisticRegression(C=1)\n",
    "lrt_model.fit(trial_data_train, trial_target_train)\n",
    "lrt_accuracy = accuracy_score(trial_target_test, lrt_model.predict(trial_data_test))\n",
    "print(\"Logistic regression\", lrt_accuracy)\n"
   ]
  },
  {
   "cell_type": "code",
   "execution_count": 66,
   "metadata": {},
   "outputs": [
    {
     "name": "stdout",
     "output_type": "stream",
     "text": [
      "Aggressive:  ('attributed someone', 0.23491607645633283)\n",
      "Aggressive:  ('currentevery', 0.11749637590890326)\n",
      "Aggressive:  ('atzinger elementary sound', 0.11434924860568735)\n",
      "Aggressive:  ('cortina ridiculous per', 0.10574286427852847)\n",
      "Aggressive:  ('cry roody poo', 0.10208738189546417)\n",
      "Friendly:  ('acceptable article', -0.09451934763060152)\n",
      "Friendly:  ('document would like', -0.06109230532227004)\n",
      "Friendly:  ('deal arrest', -0.053420497102448956)\n",
      "Friendly:  ('character show', -0.04770249240067263)\n",
      "Friendly:  ('afd since', -0.04678718205309883)\n",
      "\n",
      "\n",
      "Aggressive:  ('attributed someone', 0.2674812500600174)\n",
      "Aggressive:  ('atzinger elementary sound', 0.11678182458311004)\n",
      "Aggressive:  ('currentevery', 0.10835483181271882)\n",
      "Aggressive:  ('adjective malaysia hope', 0.08864126717182169)\n",
      "Aggressive:  ('accuracy scientology extremely', 0.0679357661798639)\n",
      "Friendly:  ('acceptable article', -0.059653230917070185)\n",
      "Friendly:  ('care article vandalizes', -0.05758289910132432)\n",
      "Friendly:  ('character show', -0.044854330728524315)\n",
      "Friendly:  ('document would like', -0.04106418900715466)\n",
      "Friendly:  ('ceremonial', -0.03328458173547363)\n",
      "\n",
      "\n",
      "Aggressive:  ('attributed someone', 5.162109055212898)\n",
      "Aggressive:  ('atzinger elementary sound', 2.5234010363833645)\n",
      "Aggressive:  ('currentevery', 2.3744613161385866)\n",
      "Aggressive:  ('adjective malaysia hope', 1.809746570521031)\n",
      "Aggressive:  ('accuracy scientology extremely', 1.5423376418922305)\n",
      "Friendly:  ('acceptable article', -1.1087434012391792)\n",
      "Friendly:  ('care article vandalizes', -1.0027728124366433)\n",
      "Friendly:  ('character show', -0.8059662588165054)\n",
      "Friendly:  ('document would like', -0.8044073151345568)\n",
      "Friendly:  ('ceremonial', -0.6209583518390798)\n",
      "\n",
      "\n",
      "Aggressive:  ('fuck', 17.540918796425633)\n",
      "Aggressive:  ('fucking', 15.371517303003872)\n",
      "Aggressive:  ('suck', 9.292730692066764)\n",
      "Aggressive:  ('bitch', 9.241512740505547)\n",
      "Aggressive:  ('asshole', 9.192901942189767)\n",
      "Friendly:  ('article', -5.600049422029292)\n",
      "Friendly:  ('not', -4.191398692969599)\n",
      "Friendly:  ('but', -3.618643164839984)\n",
      "Friendly:  ('thanks', -3.4920033413774108)\n",
      "Friendly:  ('link', -3.1220748421679243)\n"
     ]
    }
   ],
   "source": [
    "agg_friendly_words(model)\n",
    "print(\"\\n\")\n",
    "agg_friendly_words(score_model)\n",
    "print(\"\\n\")\n",
    "agg_friendly_words(lr_model)\n",
    "print(\"\\n\")\n",
    "\n",
    "#trial test\n",
    "agg_friendly_words(lrt_model)"
   ]
  },
  {
   "cell_type": "code",
   "execution_count": 157,
   "metadata": {},
   "outputs": [],
   "source": [
    "#model for binary predicting\n",
    "# TF-idf vectorizer with 'char_wb' analyzer\n",
    "ngram_arc_wb = np.zeros(5)\n",
    "ngram_arc_char = np.zeros(5)\n",
    "def accuracy_test_wb(ind, c=0.01, ngram=3, trials=100):\n",
    "    total = 0\n",
    "    tfidf_vectorizer = TfidfVectorizer(ngram_range=(1, ngram), analyzer='char_wb')\n",
    "    tfidf_vectorizer.fit(comment_data)\n",
    "    comment_vectorized = tfidf_vectorizer.transform(comment_data)\n",
    "\n",
    "    #print(comment_vectorized.shape)\n",
    "    for i in range(trials):\n",
    "        data_train, data_test, target_train, target_test = train_test_split(\n",
    "            comment_vectorized, target_unbias, test_size = 0.1)\n",
    "\n",
    "        model = LinearSVC(C=0.01)\n",
    "        model.fit(data_train, target_train)\n",
    "        total += accuracy_score(target_test, model.predict(data_test))\n",
    "    accuracy = total / trials\n",
    "    ngram_arc_wb[ind] = accuracy\n",
    "    print(\"Accuracy: \", accuracy)\n",
    "    \n",
    "# TF-idf vectorizer with 'char' analyzer\n",
    "def accuracy_test_char(ind, c=0.01, ngram=3, trials=100):\n",
    "    total = 0\n",
    "    tfidf_vectorizer = TfidfVectorizer(ngram_range=(1, ngram), analyzer='char')\n",
    "    tfidf_vectorizer.fit(comment_data)\n",
    "    comment_vectorized = tfidf_vectorizer.transform(comment_data)\n",
    "\n",
    "    #print(comment_vectorized.shape)\n",
    "    for i in range(trials):\n",
    "        data_train, data_test, target_train, target_test = train_test_split(\n",
    "            comment_vectorized, target_unbias, test_size = 0.1)\n",
    "\n",
    "        model = LinearSVC(C=0.01)\n",
    "        model.fit(data_train, target_train)\n",
    "        total += accuracy_score(target_test, model.predict(data_test))\n",
    "    accuracy = total / trials\n",
    "    ngram_arc_char[ind] = accuracy\n",
    "    print(\"Accuracy: \", accuracy)\n",
    "\n",
    "#accuracy_test_wb(ngram=5)\n",
    "#accuracy_test_char(ngram=5)"
   ]
  },
  {
   "cell_type": "code",
   "execution_count": 141,
   "metadata": {},
   "outputs": [
    {
     "name": "stdout",
     "output_type": "stream",
     "text": [
      "Accuracy:  0.6937415426251694\n",
      "Accuracy:  0.6930175913396482\n",
      "Accuracy:  0.7630311231393775\n",
      "Accuracy:  0.7697361299052775\n",
      "Accuracy:  0.8046346414073071\n",
      "Accuracy:  0.8088362652232748\n",
      "Accuracy:  0.8231190798376182\n",
      "Accuracy:  0.824343707713126\n",
      "Accuracy:  0.8310419485791612\n",
      "Accuracy:  0.8258254397834913\n"
     ]
    }
   ],
   "source": [
    "for j in range(ngram_arc_wb.size):\n",
    "    accuracy_test_wb(ind = j, trials = 50, ngram = j+1)\n",
    "    accuracy_test_char(ind = j, trials = 50, ngram = j+1)"
   ]
  },
  {
   "cell_type": "code",
   "execution_count": 142,
   "metadata": {},
   "outputs": [
    {
     "data": {
      "image/png": "[encoded data removed]",
      "text/plain": [
       "<Figure size 432x288 with 1 Axes>"
      ]
     },
     "metadata": {
      "needs_background": "light"
     },
     "output_type": "display_data"
    }
   ],
   "source": [
    "plt.plot([1,2,3,4,5], ngram_arc, label='normal TF-IDF')\n",
    "plt.plot([1,2,3,4,5], ngram_arc_wb, label='TF-IDF with char_wb analyzer')\n",
    "plt.plot([1,2,3,4,5], ngram_arc_char, label='TF-IDF with char analyzer')\n",
    "\n",
    "plt.xlabel('Ngram')\n",
    "plt.ylabel('Accuracy')\n",
    "\n",
    "plt.title('How Ngram Affect the Accuracy of the Model')\n",
    "\n",
    "plt.legend()\n",
    "\n",
    "plt.show()"
   ]
  },
  {
   "cell_type": "code",
   "execution_count": 20,
   "metadata": {},
   "outputs": [],
   "source": [
    "#model for score predicting\n",
    "# TF-idf vectorizer with 'char' analyzer\n",
    "def score_test_char(c=0.01, ngram=5, trials=100):\n",
    "    total = 0\n",
    "    tfidf_vectorizer = TfidfVectorizer(ngram_range=(1, 3), analyzer='char')\n",
    "    tfidf_vectorizer.fit(comment_data)\n",
    "    comment_vectorized = tfidf_vectorizer.transform(comment_data)\n",
    "\n",
    "    for i in range(trials):\n",
    "        data_train, data_test, target_train, target_test = train_test_split(\n",
    "            comment_vectorized, score_pro, test_size = 0.1)\n",
    "\n",
    "        model = LinearSVC(C=0.01)\n",
    "        model.fit(data_s_train, score_train)\n",
    "        total += accuracy_score(score_test, model.predict(data_s_test))\n",
    "    accuracy = total / trials\n",
    "    print(\"Accuracy: \", accuracy)\n",
    "\n",
    "# TF-idf vectorizer with 'char_wb' analyzer\n",
    "def score_test_wb(c=0.01, ngram=5, trials=100):\n",
    "    total = 0\n",
    "    tfidf_vectorizer = TfidfVectorizer(ngram_range=(1, 3), analyzer='char_wb')\n",
    "    tfidf_vectorizer.fit(comment_data)\n",
    "    comment_vectorized = tfidf_vectorizer.transform(comment_data)\n",
    "\n",
    "    for i in range(trials):\n",
    "        data_train, data_test, target_train, target_test = train_test_split(\n",
    "            comment_vectorized, score_pro, test_size = 0.1)\n",
    "\n",
    "        model = LinearSVC(C=0.01)\n",
    "        model.fit(data_s_train, score_train)\n",
    "        total += accuracy_score(score_test, model.predict(data_s_test))\n",
    "    accuracy = total / trials\n",
    "    print(\"Accuracy: \", accuracy)\n",
    "\n",
    "#score_test_wb()\n",
    "#score_test_char()"
   ]
  },
  {
   "cell_type": "code",
   "execution_count": 30,
   "metadata": {},
   "outputs": [
    {
     "name": "stdout",
     "output_type": "stream",
     "text": [
      "(0,)\n",
      "(0,)\n",
      "(5000,)\n",
      "(0,)\n",
      "(0,)\n",
      "0.8024\n",
      "4012\n",
      "0.0\n",
      "0.0\n",
      "1.2462612163509472\n",
      "0.0\n",
      "0.0\n"
     ]
    }
   ],
   "source": [
    "#print(comment_vectorized.shape[0])\n",
    "#print(data_test[0])\n",
    "#for i in range(data_train.shape[0]):\n",
    "\n",
    "pred_result = score_model.predict(comment_vectorized)\n",
    "#print(pred_result.shape)\n",
    "\n",
    "index_arr0 = []\n",
    "index_arr1 = []\n",
    "index_arr2 = []\n",
    "index_arr3 = []\n",
    "index_arr4 = []\n",
    "\n",
    "pred_ctr0 = 0\n",
    "pred_ctr1 = 0\n",
    "pred_ctr2 = 0\n",
    "pred_ctr3 = 0\n",
    "pred_ctr4 = 0\n",
    "\n",
    "for i in range(pred_result.size):\n",
    "    #print(int(pred_result[0]))\n",
    "    if (int(pred_result[i]) == 4):\n",
    "        index_arr4.append(i)\n",
    "        pred_ctr4 += 1\n",
    "    elif(int(pred_result[i]) == 3):\n",
    "        #print(i)\n",
    "        #print(comment_data[i])\n",
    "        index_arr3.append(i)\n",
    "        pred_ctr += 1\n",
    "    elif (int(pred_result[i]) == 2):\n",
    "        index_arr2.append(i)\n",
    "        pred_ctr2 += 1\n",
    "    elif (int(pred_result[i]) == 1):\n",
    "        index_arr1.append(i)\n",
    "        pred_ctr1 += 1\n",
    "    elif (int(pred_result[i]) == 0):\n",
    "        index_arr0.append(i)\n",
    "        pred_ctr0 += 1\n",
    "        \n",
    "index_arr4 = np.asarray(index_arr4)\n",
    "index_arr3 = np.asarray(index_arr3)\n",
    "index_arr2 = np.asarray(index_arr2)\n",
    "index_arr1 = np.asarray(index_arr1)\n",
    "index_arr0 = np.asarray(index_arr0)\n",
    "print(index_arr4.shape)\n",
    "print(index_arr3.shape)\n",
    "print(index_arr2.shape)\n",
    "print(index_arr1.shape)\n",
    "print(index_arr0.shape)\n",
    "\n",
    "\n",
    "accuracy2 = accuracy_score(score_pro, score_model.predict(comment_vectorized))\n",
    "print(accuracy2)\n",
    "\n",
    "num0 = 0\n",
    "num1 = 0\n",
    "num2 = 0\n",
    "num3 = 0\n",
    "num4 = 0\n",
    "for i in range(score_pro.size):\n",
    "    if (score_pro[i] == 0) and (i not in index_arr0):\n",
    "        num0 += 1\n",
    "    elif (score_pro[i] == 1) and (i not in index_arr1):\n",
    "        num1 += 1\n",
    "    elif score_pro[i] == 2:\n",
    "        num2 += 1\n",
    "    elif (score_pro[i] == 3) and (i not in index_arr3):\n",
    "        num3 += 1\n",
    "    elif (score_pro[i] == 4) and (i not in index_arr4):\n",
    "        num4 += 1\n",
    "print(num2)        \n",
    "print(pred_ctr0 / num0)\n",
    "print(pred_ctr1 / num1)\n",
    "print(pred_ctr2 / num2)\n",
    "print(pred_ctr3 / num3)\n",
    "print(pred_ctr4 / num4)\n",
    "\n",
    "#Essentially, 80% of the 5000 comments give an aggression score of 2\n",
    "#The model is thus predicting 2 for everything and getting an accuracy of 80%"
   ]
  },
  {
   "cell_type": "code",
   "execution_count": 76,
   "metadata": {},
   "outputs": [
    {
     "name": "stdout",
     "output_type": "stream",
     "text": [
      "0 (4153,)\n",
      "1 (7,)\n",
      "2 (25357,)\n",
      "3 (43,)\n",
      "4 (0,)\n",
      "technically 0.6003721244925575\n",
      "0 % 0.509820770930518\n",
      "1 % 0.001045244139166791\n",
      "2 % 1.8330803151883177\n",
      "3 % 0.050292397660818715\n",
      "4 % 0.0\n",
      "\n",
      "\n",
      "0 (7677,)\n",
      "1 (4183,)\n",
      "2 (17508,)\n",
      "3 (192,)\n",
      "4 (0,)\n",
      "technically 0.843809201623816\n",
      "0 % 0.9424257304198379\n",
      "1 % 0.6246080334478125\n",
      "2 % 1.2656690522663196\n",
      "3 % 0.22456140350877193\n",
      "4 % 0.0\n"
     ]
    }
   ],
   "source": [
    "#tests true accuracy of trial models\n",
    "\n",
    "pred_svc = trial_model.predict(trial_data)\n",
    "\n",
    "index_arr0 = []\n",
    "index_arr1 = []\n",
    "index_arr2 = []\n",
    "index_arr3 = []\n",
    "index_arr4 = []\n",
    "\n",
    "pred_ctr0 = 0\n",
    "pred_ctr1 = 0\n",
    "pred_ctr2 = 0\n",
    "pred_ctr3 = 0\n",
    "pred_ctr4 = 0\n",
    "\n",
    "for i in range(pred_svc.size):\n",
    "    if (int(pred_svc[i]) == 4):\n",
    "        index_arr4.append(i)\n",
    "        pred_ctr4 += 1\n",
    "    elif(int(pred_svc[i]) == 3):\n",
    "        index_arr3.append(i)\n",
    "        pred_ctr3 += 1\n",
    "    elif (int(pred_svc[i]) == 2):\n",
    "        index_arr2.append(i)\n",
    "        pred_ctr2 += 1\n",
    "    elif (int(pred_svc[i]) == 1):\n",
    "        index_arr1.append(i)\n",
    "        pred_ctr1 += 1\n",
    "    elif (int(pred_svc[i]) == 0):\n",
    "        index_arr0.append(i)\n",
    "        pred_ctr0 += 1\n",
    "        \n",
    "index_arr4 = np.asarray(index_arr4)\n",
    "index_arr3 = np.asarray(index_arr3)\n",
    "index_arr2 = np.asarray(index_arr2)\n",
    "index_arr1 = np.asarray(index_arr1)\n",
    "index_arr0 = np.asarray(index_arr0)\n",
    "\n",
    "print(\"0\",index_arr0.shape)\n",
    "print(\"1\",index_arr1.shape)\n",
    "print(\"2\",index_arr2.shape)\n",
    "print(\"3\",index_arr3.shape)\n",
    "print(\"4\",index_arr4.shape)\n",
    "\n",
    "\n",
    "accuracy2 = accuracy_score(trial_target, trial_model.predict(trial_data))\n",
    "print(\"technically\",accuracy2)\n",
    "\n",
    "num0 = 0\n",
    "num1 = 0\n",
    "num2 = 0\n",
    "num3 = 0\n",
    "num4 = 0\n",
    "for i in range(trial_target.size):\n",
    "    if (trial_target[i] == 0):\n",
    "        num0 += 1\n",
    "    elif (trial_target[i] == 1):\n",
    "        num1 += 1\n",
    "    elif trial_target[i] == 2:\n",
    "        num2 += 1\n",
    "    elif (trial_target[i] == 3):\n",
    "        num3 += 1\n",
    "    elif (trial_target[i] == 4):\n",
    "        num4 += 1       \n",
    "print(\"0 %\",pred_ctr0 / num0)\n",
    "print(\"1 %\",pred_ctr1 / num1)\n",
    "print(\"2 %\",pred_ctr2 / num2)\n",
    "print(\"3 %\",pred_ctr3 / num3)\n",
    "print(\"4 %\",pred_ctr4 / num4)\n",
    "print(\"\\n\")\n",
    "\n",
    "\n",
    "\n",
    "\n",
    "\n",
    "\n",
    "\n",
    "pred_lrt = lrt_model.predict(trial_data)\n",
    "\n",
    "index_arr0 = []\n",
    "index_arr1 = []\n",
    "index_arr2 = []\n",
    "index_arr3 = []\n",
    "index_arr4 = []\n",
    "\n",
    "pred_ctr0 = 0\n",
    "pred_ctr1 = 0\n",
    "pred_ctr2 = 0\n",
    "pred_ctr3 = 0\n",
    "pred_ctr4 = 0\n",
    "\n",
    "for i in range(pred_lrt.size):\n",
    "    if (int(pred_lrt[i]) == 4):\n",
    "        index_arr4.append(i)\n",
    "        pred_ctr4 += 1\n",
    "    elif(int(pred_lrt[i]) == 3):\n",
    "        index_arr3.append(i)\n",
    "        pred_ctr3 += 1\n",
    "    elif (int(pred_lrt[i]) == 2):\n",
    "        index_arr2.append(i)\n",
    "        pred_ctr2 += 1\n",
    "    elif (int(pred_lrt[i]) == 1):\n",
    "        index_arr1.append(i)\n",
    "        pred_ctr1 += 1\n",
    "    elif (int(pred_lrt[i]) == 0):\n",
    "        index_arr0.append(i)\n",
    "        pred_ctr0 += 1\n",
    "        \n",
    "index_arr4 = np.asarray(index_arr4)\n",
    "index_arr3 = np.asarray(index_arr3)\n",
    "index_arr2 = np.asarray(index_arr2)\n",
    "index_arr1 = np.asarray(index_arr1)\n",
    "index_arr0 = np.asarray(index_arr0)\n",
    "print(\"0\",index_arr0.shape)\n",
    "print(\"1\",index_arr1.shape)\n",
    "print(\"2\",index_arr2.shape)\n",
    "print(\"3\",index_arr3.shape)\n",
    "print(\"4\",index_arr4.shape)\n",
    "\n",
    "\n",
    "accuracy2 = accuracy_score(trial_target, lrt_model.predict(trial_data))\n",
    "print(\"technically\",accuracy2)\n",
    "\n",
    "num0 = 0\n",
    "num1 = 0\n",
    "num2 = 0\n",
    "num3 = 0\n",
    "num4 = 0\n",
    "for i in range(trial_target.size):\n",
    "    if (trial_target[i] == 0):\n",
    "        num0 += 1\n",
    "    elif (trial_target[i] == 1):\n",
    "        num1 += 1\n",
    "    elif trial_target[i] == 2:\n",
    "        num2 += 1\n",
    "    elif (trial_target[i] == 3):\n",
    "        num3 += 1\n",
    "    elif (trial_target[i] == 4):\n",
    "        num4 += 1      \n",
    "print(\"0 %\",pred_ctr0 / num0)\n",
    "print(\"1 %\",pred_ctr1 / num1)\n",
    "print(\"2 %\",pred_ctr2 / num2)\n",
    "print(\"3 %\",pred_ctr3 / num3)\n",
    "print(\"4 %\",pred_ctr4 / num4)\n",
    "\n",
    "#ratio of predicted count to ideal count "
   ]
  },
  {
   "cell_type": "code",
   "execution_count": 188,
   "metadata": {},
   "outputs": [
    {
     "name": "stdout",
     "output_type": "stream",
     "text": [
      "Write your comment here: I linked it to the article.\n",
      "[0. 0.]\n",
      "---Your input comment is classified as nonaggressive!---\n"
     ]
    }
   ],
   "source": [
    "#Predicting user input\n",
    "\n",
    "user_input = input(\"Write your comment here: \")\n",
    "#print(user_input)\n",
    "\n",
    "user_input = PUNCTUATION_NO_SPACE.sub(\"\",user_input.lower())\n",
    "user_input = NEWLINE.sub(\"\",user_input)\n",
    "user_input = PUNCTUATION_SPACE.sub(\" \",user_input.lower())\n",
    "user_input = user_input.split()\n",
    "user_input = [word for word in user_input if word not in skip]\n",
    "\n",
    "lemmatizer = WordNetLemmatizer()\n",
    "comment_data[i] = ' '.join([lemmatizer.lemmatize(word) for word in user_input])\n",
    "\n",
    "tfidf_vectorizer = TfidfVectorizer(ngram_range=(1, 1))\n",
    "tfidf_vectorizer.fit(comment_data)\n",
    "user_input_vec = tfidf_vectorizer.transform(user_input)\n",
    "\n",
    "predicted_result = model_ub.predict(user_input_vec)\n",
    "print(predicted_result)\n",
    "if (np.mean(predicted_result > 0.5)):\n",
    "    print(\"---Your input comment is classified as aggressive!---\")\n",
    "else:\n",
    "    print(\"---Your input comment is classified as nonaggressive!---\")"
   ]
  },
  {
   "cell_type": "code",
   "execution_count": 176,
   "metadata": {},
   "outputs": [
    {
     "name": "stdout",
     "output_type": "stream",
     "text": [
      "  (0, 29478)\t1.0\n",
      "  (1, 20540)\t1.0\n",
      "  (2, 21662)\t1.0\n",
      "(3,)\n"
     ]
    }
   ],
   "source": [
    "print(user_input_vec)\n",
    "print(predicted_result.shape)"
   ]
  },
  {
   "cell_type": "code",
   "execution_count": null,
   "metadata": {},
   "outputs": [],
   "source": []
  }
 ],
 "metadata": {
  "kernelspec": {
   "display_name": "Python 3",
   "language": "python",
   "name": "python3"
  },
  "language_info": {
   "codemirror_mode": {
    "name": "ipython",
    "version": 3
   },
   "file_extension": ".py",
   "mimetype": "text/x-python",
   "name": "python",
   "nbconvert_exporter": "python",
   "pygments_lexer": "ipython3",
   "version": "3.7.1"
  }
 },
 "nbformat": 4,
 "nbformat_minor": 2
}
