{
 "cells": [
  {
   "cell_type": "code",
   "execution_count": 54,
   "metadata": {},
   "outputs": [
    {
     "name": "stdout",
     "output_type": "stream",
     "text": [
      "-this  not creative     dictionary definitions   terms insurance  ensurance  properly applied  destruction    dont understand  fine legitimate criticism ill write  three man cell  bounty hunter      easy  understand  ensured  insured  different -    differ  assuredthe sentence  quote  absolutely neutral    arent familiar   underlying theory  strike-back eg submarines  employed  nuclear warfare guiding  insurance nor likely  three man cell structure  kept  ira   broken   british   thats  fault fine   fix   explain  but  nothing personal  creative  itim tired  arguing       article multi-party turns  plenty     use  mutually  mutual      apply  standard id  moving mutual assured destruction  talk  not appealing   reagan voters biases   effectiveness   dropping  lythere   double standard   edits    comes   us history book like peace movement  mad  defined  1950  like  even   definition  totally useless  2002    historical interest  if  makes  even-obvious connection  implication   language chosen  multiple profession-specific terms  consider  somehow non-neutral  gandhi thinks eye   eye describes riots death penalty  war    but  dont     know  gandhi doesntguess   reality  not neutral  current use  terms  slightly  controversial  neutrality requires negotiation   willingness  learnthis   problem not mine   may dislike  writing fine    fixed  but disregarding fundamental axioms  philosphy  names  recur  multiple phrases  failing  make critical distinctions like insurance versus assurance versus ensurance   made  one quote   air force general   -context quote    disservice   readerif someone comes   research  topic like mad  want  context beyond historyif    history book fine   history book  but  wasnt    claimed  be\n"
     ]
    }
   ],
   "source": [
    "#Version 0.0 ---comment preprocessing\n",
    "\n",
    "import nltk\n",
    "import numpy as np\n",
    "import pandas as pd\n",
    "import matplotlib.pyplot as plt\n",
    "from scipy import ndimage as nd\n",
    "import re\n",
    "\n",
    "#input data and clean up\n",
    "data = pd.read_csv('aggression_annotated_comments.tsv', sep = '\\t', nrows = 10)\n",
    "\n",
    "comment_data = data.comment\n",
    "comment_data = np.asarray(comment_data)\n",
    "\n",
    "PUNCTUATION = re.compile(\"[.;:!*`_'?,\\\"()\\[\\]]\")\n",
    "NEWLINE = re.compile(\"newlinetoken\")\n",
    "#This is more or less the nltk stop list with negations removed\n",
    "skip = ['i', 'me', 'my', 'myself', 'we', 'our', 'ours', 'ourselves', 'you', \"you're\", \\\n",
    "        \"you've\", \"you'll\", \"you'd\", 'your', 'yours', 'yourself', 'yourselves', 'he', 'him', \\\n",
    "        'his', 'himself', 'she', \"she's\", 'her', 'hers', 'herself', 'it', \"it's\", 'its', 'itself', \\\n",
    "        'they', 'them', 'their', 'theirs', 'themselves', 'what', 'which', 'who', 'whom', 'this', 'that', \\\n",
    "        \"that'll\", 'these', 'those', 'am', 'is', 'are', 'was', 'were', 'be', 'been', 'being', 'have', \\\n",
    "        'has', 'had', 'having', 'do', 'does', 'did', 'doing', 'a', 'an', 'the', 'and', 'if', 'or', \\\n",
    "        'because', 'as', 'until', 'while', 'of', 'at', 'by', 'for', 'with', 'about', 'between', \\\n",
    "        'into', 'through', 'during', 'before', 'after', 'above', 'below', 'to', 'from', 'up', 'down', 'in', \\\n",
    "        'out', 'on', 'off', 'over', 'under', 'further', 'then', 'once', 'here', 'there', 'theres','when', 'where',\\\n",
    "        'why', 'how', 'all', 'any', 'both', 'each', 'few', 'more', 'most', 'other', 'some', 'such',\\\n",
    "        'only', 'own', 'same', 'so', 'than', 'too', 'very', 's', 't', 'can', 'will', 'just', \\\n",
    "        'should', \"should've\", 'now', 'd', 'll', 'm', 'o', 're', 've', 'y','u','ur']\n",
    "SKIP_LIST = re.compile(r'\\b(?:%s)\\b' % '|'.join(skip))\n",
    "\n",
    "for i in range(comment_data.size):\n",
    "    comment_data[i] = PUNCTUATION.sub(\"\",comment_data[i].lower())\n",
    "    comment_data[i] = SKIP_LIST.sub(\"\",comment_data[i])\n",
    "    comment_data[i] = NEWLINE.sub(\"\",comment_data[i])\n",
    "\n",
    "    \n",
    "#comment_data[0] = [word for word in comment_data[0] if word not in skip]\n",
    "print(comment_data[0])\n",
    "\n",
    "\n",
    "\n",
    "\n",
    "\n",
    "\n",
    "#stop_list = nltk.corpus.stopwords.words(\"english\")"
   ]
  },
  {
   "cell_type": "code",
   "execution_count": null,
   "metadata": {},
   "outputs": [],
   "source": []
  },
  {
   "cell_type": "code",
   "execution_count": null,
   "metadata": {},
   "outputs": [],
   "source": []
  },
  {
   "cell_type": "code",
   "execution_count": null,
   "metadata": {},
   "outputs": [],
   "source": []
  }
 ],
 "metadata": {
  "kernelspec": {
   "display_name": "Python 3",
   "language": "python",
   "name": "python3"
  },
  "language_info": {
   "codemirror_mode": {
    "name": "ipython",
    "version": 3
   },
   "file_extension": ".py",
   "mimetype": "text/x-python",
   "name": "python",
   "nbconvert_exporter": "python",
   "pygments_lexer": "ipython3",
   "version": "3.7.1"
  }
 },
 "nbformat": 4,
 "nbformat_minor": 2
}
