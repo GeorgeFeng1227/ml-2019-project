{
 "cells": [
  {
   "cell_type": "markdown",
   "metadata": {},
   "source": [
    "# Sandbox\n",
    "Attempt to write scores into file (Don't run this it takes forever)"
   ]
  },
  {
   "cell_type": "code",
   "execution_count": 16,
   "metadata": {},
   "outputs": [
    {
     "name": "stdout",
     "output_type": "stream",
     "text": [
      "finish2\n"
     ]
    }
   ],
   "source": [
    "import pandas as pd\n",
    "import numpy as np\n",
    "\n",
    "# names of files to read from\n",
    "r_Comment = 'aggression_annotated_comments.tsv'\n",
    "r_Annotation = 'aggression_annotations.tsv'\n",
    "\n",
    "# names of files to write to\n",
    "w_Comment_A = 'Aggressive_scored.tsv'\n",
    "\n",
    "w_Comment_N = 'Friendlier_scored.tsv'\n",
    "\n",
    "# read the data\n",
    "com_read = pd.read_csv(r_Comment, sep = '\\t')\n",
    "ann_read = pd.read_csv(r_Annotation, sep='\\t')\n",
    "\n",
    "ann_read.set_index('rev_id',inplace = True)\n",
    "#print(np.mean(np.asarray(ann_read.loc[700512,'aggression'])))\n",
    "\n",
    "rev_id = com_read['rev_id']\n",
    "rev_id = np.asarray(rev_id)\n",
    "\n",
    "#write to files\n",
    "'''\n",
    "with open(w_Comment_A,'w') as write_tsv:\n",
    "    write_tsv.write('rev_id\\tcomment\\taggression\\taggression_score\\n')\n",
    "    ctr = 0\n",
    "    for ind in rev_id:\n",
    "        aggression = np.mean(np.asarray(ann_read.loc[ind,'aggression']))    \n",
    "        aggr_score = np.mean(np.asarray(ann_read.loc[ind,'aggression_score']))    \n",
    "        if (aggression > 0.5):\n",
    "            output = str(com_read['rev_id'][ctr])+\"\\t\"+str(com_read['comment'][ctr])+\"\\t\"+str(aggression)+\"\\t\"+\\\n",
    "            str(aggr_score+2)+\"\\n\"\n",
    "            write_tsv.write(output)\n",
    "        ctr += 1\n",
    "    \n",
    "print('finish1')\n",
    "'''\n",
    "with open(w_Comment_N,'w') as write_tsv:\n",
    "    write_tsv.write('rev_id\\tcomment\\taggression\\taggression_score\\n')\n",
    "    ctr = 0\n",
    "    for ind in rev_id:\n",
    "        aggression = np.mean(np.asarray(ann_read.loc[ind,'aggression']))  \n",
    "        aggr_score = np.mean(np.asarray(ann_read.loc[ind,'aggression_score']))    \n",
    "        if (aggression < 0.3):\n",
    "            output = str(com_read['rev_id'][ctr])+\"\\t\"+str(com_read['comment'][ctr])+\"\\t\"+str(aggression)+\"\\t\"+\\\n",
    "            str(aggr_score+2)+\"\\n\"\n",
    "            write_tsv.write(output)\n",
    "        ctr += 1\n",
    "print('finish2')"
   ]
  },
  {
   "cell_type": "markdown",
   "metadata": {},
   "source": [
    "# Checking\n",
    "Score of sorted file"
   ]
  },
  {
   "cell_type": "code",
   "execution_count": 25,
   "metadata": {},
   "outputs": [
    {
     "name": "stdout",
     "output_type": "stream",
     "text": [
      "Number of 0 scored comments in neutral sample: 0\n",
      "Number of 1 scored comments in neutral sample: 81\n",
      "Number of 2 scored comments in neutral sample: 9298\n",
      "Number of 3 scored comments in neutral sample: 604\n",
      "Number of 4 scored comments in neutral sample: 17\n",
      "Percentage of 2 scored comments in neutral sample:  0.9298\n",
      "\n",
      "\n",
      "Number of 0 scored comments in aggressive sample: 2629\n",
      "Number of 1 scored comments in aggressive sample: 2351\n",
      "Number of 2 scored comments in aggressive sample: 20\n",
      "Number of 3 scored comments in aggressive sample: 0\n",
      "Number of 4 scored comments in aggressive sample: 0\n",
      "Percentage of 2 scored comments in aggressive sample:  0.004\n"
     ]
    }
   ],
   "source": [
    "lines = 10000\n",
    "\n",
    "data = pd.read_csv(w_Comment_N, sep = '\\t', nrows=lines)\n",
    "score = np.asarray(data.aggression_score)\n",
    "\n",
    "ctr = 0\n",
    "ctr0 = 0\n",
    "ctr1 = 0\n",
    "ctr2 = 0\n",
    "ctr3 = 0\n",
    "ctr4 = 0\n",
    "\n",
    "\n",
    "for i in range(lines):\n",
    "    if (score[i] > 3.5):\n",
    "        ctr4 += 1\n",
    "    elif (score[i] > 2.5):\n",
    "        ctr3 += 1\n",
    "    elif (score[i] > 1.5):\n",
    "        ctr2 += 1\n",
    "    elif (score[i] > 0.5):\n",
    "        ctr1 += 1\n",
    "    else:\n",
    "        ctr0 += 1\n",
    "    \n",
    "print(\"Number of 0 scored comments in neutral sample:\", ctr0)\n",
    "print(\"Number of 1 scored comments in neutral sample:\", ctr1)\n",
    "print(\"Number of 2 scored comments in neutral sample:\", ctr2)\n",
    "print(\"Number of 3 scored comments in neutral sample:\", ctr3)\n",
    "print(\"Number of 4 scored comments in neutral sample:\", ctr4)\n",
    "print(\"Percentage of 2 scored comments in neutral sample: \", (ctr2/lines))\n",
    "print(\"\\n\")\n",
    "\n",
    "\n",
    "\n",
    "a_data = pd.read_csv(w_Comment_A, sep = '\\t', nrows=lines)\n",
    "a_score = np.asarray(a_data.aggression_score)\n",
    "\n",
    "ctr = 0\n",
    "ctr0 = 0\n",
    "ctr1 = 0\n",
    "ctr2 = 0\n",
    "ctr3 = 0\n",
    "ctr4 = 0\n",
    "\n",
    "\n",
    "for i in range(int(lines/2)):\n",
    "    if (a_score[i] > 3.5):\n",
    "        ctr4 += 1\n",
    "    elif (a_score[i] > 2.5):\n",
    "        ctr3 += 1\n",
    "    elif (a_score[i] > 1.5):\n",
    "        ctr2 += 1\n",
    "    elif (a_score[i] > 0.5):\n",
    "        ctr1 += 1\n",
    "    else:\n",
    "        ctr0 += 1\n",
    "    \n",
    "print(\"Number of 0 scored comments in aggressive sample:\", ctr0)\n",
    "print(\"Number of 1 scored comments in aggressive sample:\", ctr1)\n",
    "print(\"Number of 2 scored comments in aggressive sample:\", ctr2)\n",
    "print(\"Number of 3 scored comments in aggressive sample:\", ctr3)\n",
    "print(\"Number of 4 scored comments in aggressive sample:\", ctr4)\n",
    "print(\"Percentage of 2 scored comments in aggressive sample: \", (ctr2/(lines/2)))"
   ]
  },
  {
   "cell_type": "code",
   "execution_count": 26,
   "metadata": {},
   "outputs": [
    {
     "name": "stdout",
     "output_type": "stream",
     "text": [
      "unbias data inputed\n",
      "comment_data & target_unbias\n"
     ]
    }
   ],
   "source": [
    "agg_data = pd.read_csv('Aggressive_scored.tsv', sep = '\\t', nrows = int(lines/2))\n",
    "neu_data = pd.read_csv('Neutral_scored.tsv', sep = '\\t', nrows = int(lines/2))\n",
    "\n",
    "agg_comment = agg_data.comment\n",
    "neu_comment = neu_data.comment\n",
    "agg_target = agg_data.aggression_score\n",
    "neu_target = neu_data.aggression_score\n",
    "\n",
    "comment_data = np.asarray(agg_comment.append(neu_comment))\n",
    "target_unbias = np.asarray(agg_target.append(neu_target))\n",
    "print(\"unbias data inputed\")\n",
    "print(\"comment_data & target_unbias\")"
   ]
  },
  {
   "cell_type": "code",
   "execution_count": 30,
   "metadata": {},
   "outputs": [
    {
     "name": "stdout",
     "output_type": "stream",
     "text": [
      "Number of 0 scored comments in unbiased sample: 2629\n",
      "Number of 1 scored comments in unbiased sample: 2400\n",
      "Number of 2 scored comments in unbiased sample: 4684\n",
      "Number of 3 scored comments in unbiased sample: 276\n",
      "Number of 4 scored comments in unbiased sample: 11\n",
      "Percentage of 2 scored comments in unbiased sample:  0.4684\n"
     ]
    }
   ],
   "source": [
    "ctr = 0\n",
    "ctr0 = 0\n",
    "ctr1 = 0\n",
    "ctr2 = 0\n",
    "ctr3 = 0\n",
    "ctr4 = 0\n",
    "\n",
    "score_pro = np.zeros(lines)\n",
    "\n",
    "for i in range(lines):\n",
    "    if (target_unbias[i] > 3.5):\n",
    "        score_pro[i] = 4\n",
    "        ctr4 += 1\n",
    "    elif (target_unbias[i] > 2.5):\n",
    "        score_pro[i] = 3\n",
    "        ctr3 += 1\n",
    "    elif (target_unbias[i] > 1.5):\n",
    "        score_pro[i] = 2\n",
    "        ctr2 += 1\n",
    "    elif (target_unbias[i] > 0.5):\n",
    "        score_pro[i] = 1\n",
    "        ctr1 += 1\n",
    "    else:\n",
    "        score_pro[i] = 0\n",
    "        ctr0 += 1\n",
    "    \n",
    "print(\"Number of 0 scored comments in unbiased sample:\", ctr0)\n",
    "print(\"Number of 1 scored comments in unbiased sample:\", ctr1)\n",
    "print(\"Number of 2 scored comments in unbiased sample:\", ctr2)\n",
    "print(\"Number of 3 scored comments in unbiased sample:\", ctr3)\n",
    "print(\"Number of 4 scored comments in unbiased sample:\", ctr4)\n",
    "print(\"Percentage of 2 scored comments in unbiased sample: \", (ctr2/lines))"
   ]
  },
  {
   "cell_type": "code",
   "execution_count": null,
   "metadata": {},
   "outputs": [],
   "source": []
  },
  {
   "cell_type": "code",
   "execution_count": null,
   "metadata": {},
   "outputs": [],
   "source": []
  },
  {
   "cell_type": "code",
   "execution_count": null,
   "metadata": {},
   "outputs": [],
   "source": []
  },
  {
   "cell_type": "code",
   "execution_count": null,
   "metadata": {},
   "outputs": [],
   "source": []
  }
 ],
 "metadata": {
  "kernelspec": {
   "display_name": "Python 3",
   "language": "python",
   "name": "python3"
  },
  "language_info": {
   "codemirror_mode": {
    "name": "ipython",
    "version": 3
   },
   "file_extension": ".py",
   "mimetype": "text/x-python",
   "name": "python",
   "nbconvert_exporter": "python",
   "pygments_lexer": "ipython3",
   "version": "3.7.1"
  }
 },
 "nbformat": 4,
 "nbformat_minor": 2
}
